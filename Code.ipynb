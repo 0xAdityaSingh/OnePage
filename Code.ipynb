{
 "cells": [
  {
   "cell_type": "code",
   "execution_count": 74,
   "id": "activated-facility",
   "metadata": {},
   "outputs": [
    {
     "name": "stdout",
     "output_type": "stream",
     "text": [
      "The autotime extension is already loaded. To reload it, use:\n",
      "  %reload_ext autotime\n",
      "time: 2.25 ms (started: 2022-03-25 23:04:03 +05:30)\n"
     ]
    }
   ],
   "source": [
    "%load_ext autotime\n",
    "import time\n",
    "from selenium import webdriver\n",
    "from selenium.webdriver.support.ui import WebDriverWait\n",
    "from selenium.webdriver.chrome.options import Options"
   ]
  },
  {
   "cell_type": "code",
   "execution_count": 82,
   "id": "formed-policy",
   "metadata": {},
   "outputs": [
    {
     "name": "stdout",
     "output_type": "stream",
     "text": [
      "time: 875 µs (started: 2022-03-25 23:08:07 +05:30)\n"
     ]
    }
   ],
   "source": [
    "async def page_down(driver):\n",
    "    driver.execute_script(\"window.scrollTo(0,document.body.scrollHeight)\")\n",
    "    time.sleep(3)\n",
    "async def page_reveal(driver):\n",
    "    driver.find_element_by_class_name('Feed_reveal__2pZhN').click()\n",
    "#     time.sleep()\n",
    "async def getdata(driver):\n",
    "    page_text=driver.find_element_by_class_name(\"Page_text__3G9Sy\").text\n",
    "    title=driver.find_element_by_class_name(\"Info_info__sYZUY\").text\n",
    "    cover=driver.find_element_by_class_name(\"Info_infoLeft__1_U5L\").find_element_by_css_selector('a').get_attribute('href')\n",
    "    data={}\n",
    "    data[\"page_text\"]=page_text\n",
    "    data[\"title\"]=title\n",
    "    data[\"cover\"]=cover\n",
    "    return data\n",
    "async def page_next(driver):\n",
    "    driver.find_element_by_class_name('Settings_arrowRight__1PUqj').click()\n",
    "    time.sleep(2)"
   ]
  },
  {
   "cell_type": "code",
   "execution_count": 83,
   "id": "powerful-fantasy",
   "metadata": {},
   "outputs": [
    {
     "name": "stdout",
     "output_type": "stream",
     "text": [
      "time: 23.7 s (started: 2022-03-25 23:08:08 +05:30)\n"
     ]
    }
   ],
   "source": [
    "driver = webdriver.Chrome()\n",
    "driver.get(\"https://recommendmeabook.com/\")\n",
    "time.sleep(3)\n",
    "lis=[]\n",
    "for i in range(3):\n",
    "    await page_down(driver)\n",
    "    await page_reveal(driver)\n",
    "    lis.append(await getdata(driver))\n",
    "    await page_next(driver)\n",
    "driver.quit()"
   ]
  },
  {
   "cell_type": "code",
   "execution_count": 84,
   "id": "hired-local",
   "metadata": {},
   "outputs": [
    {
     "data": {
      "text/plain": [
       "[{'page_text': 'Three letters…W, H, Y\\nWhy? How many times a day do you ask that question? Being a fifth grade teacher, I’m sure I ask it more than the average person. Why did you just push him? Why don’t you have a pencil? Why aren’t you in line? Why are you talking? Why are you putting your shoelace in your mouth? Why is your desk wet? On the same token, if you have kids of your own, you know how many times they ask why questions on an average day. If you don’t know, the answer is up to two hundred times! It’s the nature of being a human to wonder about things and want to know the reasoning behind things. I may not be a child, but I can tell you that I’ve asked the question why close to two hundred times a day myself in recent years, and honestly, I still don’t have an answer. You see, my family’s journey with cancer began over ten years ago in 2009.\\nMy sister-in-law, Amy McLaughlin, was diagnosed with cancer shortly after the birth of my nephew, Nathan. Amy was my older brother Jeremy’s wife. As she went through her journey, the family was in shock and disbelief but also lost in all the lingo and jargon that comes along with fighting cancer. Many times, I questioned God. Why was he doing this to my brother? Why was he doing this to our family? We went to church every Sunday growing up. We were in the youth group. I played the piano and organ for church services. We were what were considered good people. So why were we chosen to deal with this? Amy was one of those people who were nice to everyone. She had her opinions, but she didn’t force them on others. Being new to the cancer world, our family was not really sure what to do to help her and Jeremy. So we did what family does; we surrounded her with love and did what we could to lighten the load. My mom organized a party of sorts to show our support of Amy. We showed up in matching shirts and spent the day pampering Amy and enjoying laughs together. We had a huge turnout for the event including Amy’s friends and coworkers. Right after Thanksgiving in 2010, Amy’s condition worsened. While many were preparing for Christmas with their families, we were preparing for the passing of our loved one. In her last days, I was helping my brother by staying at the house with the kids. Abby was three, and Nate had just turned one in October. Amy was not well at the time, and I had decided I didn’t want to see her in that condition. I wanted to remember her as the happy, smiley sister-in-law I knew, not the one currently bald due to chemo, hooked up to wires and machines to keep her alive. To this day, I don’t regret that decision. Amy knew I loved her, and she knew I was taking care of her babies so that Jeremy could be at the hospital with her. On one particular night when I was staying with the kids, we were watching TV, and the show Frosty the Snowman came on. Abby, who was three at the time, wanted to watch it. While this seemed like a seemingly innocent request, it turned out to be something that would stick with me for the rest of my life.',\n",
       "  'title': 'Be an Overcomer…Even If You Have To Do It Several Times, Jill Dorman',\n",
       "  'cover': 'https://www.amazon.com/s?k=Be%20an%20Overcomer%E2%80%A6Even%20If%20You%20Have%20To%20Do%20It%20Several%20Times%20Jill%20Dorman&i=stripbooks&tag=discbook0f21-20'},\n",
       " {'page_text': 'Only three people were left under the red and white awning of the grease joint: Grady, me, and the fry cook. Grady and I sat at a battered wooden table, each facing a burger on a dented tin plate. The cook was behind the counter, scraping his griddle with the edge of a spatula. He had turned off the fryer some time ago, but the odor of grease lingered.\\nThe rest of the midway—so recently writhing with people—was empty but for a handful of employees and a small group of men waiting to be led to the cooch tent. They glanced nervously from side to side, with hats pulled low and hands thrust deep in their pockets. They wouldn’t be disappointed: somewhere in the back Barbara and her ample charms awaited.\\nThe other townsfolk—rubes, as Uncle Al called them—had already made their way through the menagerie tent and into the big top, which pulsed with frenetic music. The band was whipping through its repertoire at the usual earsplitting volume. I knew the routine by heart—at this very moment, the tail end of the Grand Spectacle was exiting and Lottie, the aerialist, was ascending her rigging in the center ring.\\nI stared at Grady, trying to process what he was saying. He glanced around and leaned in closer.\\n“Besides,” he said, locking eyes with me, “it seems to me you’ve got a lot to lose right now.” He raised his eyebrows for emphasis. My heart skipped a beat.\\nThunderous applause exploded from the big top, and the band slid seamlessly into the Gounod waltz. I turned instinctively toward the menagerie because this was the cue for the elephant act. Marlena was either preparing to mount or was already sitting on Rosie’s head.\\n“I’ve got to go,” I said.\\n“Sit,” said Grady. “Eat. If you’re thinking of clearing out, it may be a while before you see food again.”\\nThat moment, the music screeched to a halt. There was an ungodly collision of brass, reed, and percussion—trombones and piccolos skidded into cacophony, a tuba farted, and the hollow clang of a cymbal wavered out of the big top, over our heads and into oblivion.\\nGrady froze, crouched over his burger with his pinkies extended and lips spread wide.\\nI looked from side to side. No one moved a muscle—all eyes were directed at the big top. A few wisps of hay swirled lazily across the hard dirt.\\n“What is it? What’s going on?” I said.\\n“Shh,”Grady hissed.\\nThe band started up again, playing “Stars and Stripes Forever.”\\n“Oh Christ. Oh shit!” Grady tossed his food onto the table and leapt up, knocking over the bench.\\n“What? What is it?” I yelled, because he was already running away from me.\\n“The Disaster March!” he screamed over his shoulder.\\nI jerked around to the fry cook, who was ripping off his apron. “What the hell’s he talking about?”\\n“The Disaster March,” he said, wrestling the apron over his head. “Means something’s gone bad—real bad.”\\n“Like what?”\\n“Could be anything—fire in the big top, stampede, whatever. Aw sweet Jesus. The poor rubes probably don’t even know it yet.” He ducked under the hinged door and took off.\\nChaos—candy butchers vaulting over counters, workmen staggering out from under tent flaps, roustabouts racing headlong across the lot. Anyone and everyone associated with the Benzini Brothers Most Spectacular Show on Earth barreled toward the big top.\\nDiamond Joe passed me at the human equivalent of a full gallop.\\n“Jacob—it’s the menagerie,” he screamed. “The animals are loose. Go, go!”',\n",
       "  'title': 'Water for Elephants, Sara Gruen\\nContributed by havenutmeg',\n",
       "  'cover': 'https://www.amazon.com/s?k=Water%20for%20Elephants%20Sara%20Gruen&i=stripbooks&tag=discbook0f21-20'},\n",
       " {'page_text': 'I AM AN AMERICAN, Chicago born—Chicago, that somber city—and go at things as I have taught myself, free-style, and will make the record in my own way: first to knock, first admitted; sometimes an innocent knock, sometimes a not so innocent. But a man’s character is his fate, says Heraclitus, and in the end there isn’t any way to disguise the nature of the knocks by acoustical work on the door or gloving the knuckles.\\nEverybody knows there is no fineness or accuracy of suppression; if you hold down one thing you hold down the adjoining.\\nMy own parents were not much to me, though I cared for my mother. She was simple-minded, and what I learned from her was not what she taught, but on the order of object lessons. She didn’t have much to teach, poor woman. My brothers and I loved her. I speak for them both; for the elder it is safe enough; for the younger one, Georgie, I have to answer—he was born an idiot—but I’m in no need to guess, for he had a song he sang as he ran dragfooted with his stiff idiot’s trot, up and down along the curl-wired fence in the backyard:\\nGeorgie Mahchy, Augie,\\nSimey\\nWinnie Mahchy, evwy, evwy\\nlove Mama.\\nHe was right about everyone save Winnie, Grandma Lausch’s poodle, a pursy old overfed dog. Mama was Winnie’s servant, as she was Grandma Lausch’s. Loud-breathing and wind-breaking, she lay near the old lady’s stool on a cushion embroidered with a Berber aiming a rifle at a lion. She was personally Grandma’s, belonged to her suite; the rest of us were the governed, and especially Mama. Mama passed the dog’s dish to Grandma, and Winnie received her food at the old lady’s feet from the old lady’s hands. These hands and feet were small; she wore a shriveled sort of lisle on her legs and her slippers were gray—ah, the gray of that felt, the gray despotic to souls—with pink ribbons. Mama, however, had large feet, and around the house she wore men’s shoes, usually without strings, and a dusting or mobcap like somebody’s fanciful cotton effigy of the form of the brain. She was meek and long, round-eyed like Georgie—gentle green round eyes and a gentle freshness of color in her long face. Her hands were work-reddened, she had very few of her teeth left—to heed the knocks as they come—and she and Simon wore the same ravelly coat-sweaters. Besides having round eyes, Mama had circular glasses that I went with her to the free dispensary on Harrison Street to get. Coached by Grandma Lausch, I went to do the lying. Now I know it wasn’t so necessary to lie, but then everyone thought so, and Grandma Lausch especially, who was one of those Machiavellis of small street and neighborhood that my young years were full of. So Grandma, who had it all ready before we left the house and must have put in hours plotting it out in thought and phrase, lying small in her chilly small room under the featherbed, gave it to me at breakfast. The idea was that Mama wasn’t keen enough to do it right. That maybe one didn’t need to be keen didn’t occur to us; it was a contest. The dispensary would want to know why the Charities didn’t pay for the glasses. So you must say nothing about the Charities, but that sometimes money from my father came and sometimes it didn’t, and that Mama took boarders. This was, in a delicate and choosy way, by ignoring and omitting certain large facts, true. It was true enough for them, and at the age of nine I could appreciate this perfectly. Better than my brother Simon, who was too blunt for this kind of maneuver and, anyway, from books, had gotten hold of some English schoolboy notions of honor. Tom Brown’s Schooldays for many years had an influence we were not in a position to afford.',\n",
       "  'title': 'The Adventures of Augie March, Saul Bellow\\nContributed by Ottman621',\n",
       "  'cover': 'https://www.amazon.com/s?k=The%20Adventures%20of%20Augie%20March%20Saul%20Bellow&i=stripbooks&tag=discbook0f21-20'}]"
      ]
     },
     "execution_count": 84,
     "metadata": {},
     "output_type": "execute_result"
    },
    {
     "name": "stdout",
     "output_type": "stream",
     "text": [
      "time: 5.69 ms (started: 2022-03-25 23:08:32 +05:30)\n"
     ]
    }
   ],
   "source": [
    "lis"
   ]
  },
  {
   "cell_type": "code",
   "execution_count": null,
   "id": "sunrise-inspector",
   "metadata": {},
   "outputs": [],
   "source": []
  },
  {
   "cell_type": "code",
   "execution_count": null,
   "id": "civilian-friendship",
   "metadata": {},
   "outputs": [],
   "source": []
  },
  {
   "cell_type": "code",
   "execution_count": null,
   "id": "offshore-pride",
   "metadata": {},
   "outputs": [],
   "source": []
  },
  {
   "cell_type": "code",
   "execution_count": null,
   "id": "unsigned-calcium",
   "metadata": {},
   "outputs": [],
   "source": []
  },
  {
   "cell_type": "code",
   "execution_count": null,
   "id": "herbal-fundamental",
   "metadata": {},
   "outputs": [],
   "source": []
  },
  {
   "cell_type": "code",
   "execution_count": null,
   "id": "great-canada",
   "metadata": {},
   "outputs": [],
   "source": []
  }
 ],
 "metadata": {
  "kernelspec": {
   "display_name": "Python 3",
   "language": "python",
   "name": "python3"
  },
  "language_info": {
   "codemirror_mode": {
    "name": "ipython",
    "version": 3
   },
   "file_extension": ".py",
   "mimetype": "text/x-python",
   "name": "python",
   "nbconvert_exporter": "python",
   "pygments_lexer": "ipython3",
   "version": "3.9.7"
  }
 },
 "nbformat": 4,
 "nbformat_minor": 5
}
